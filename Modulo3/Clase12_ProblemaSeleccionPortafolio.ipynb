{
 "cells": [
  {
   "cell_type": "markdown",
   "metadata": {},
   "source": [
    "# Problema de selección de portafolio con preferencias media-varianza\n",
    "\n",
    "<img style=\"float: right; margin: 0px 0px 15px 15px;\" src=\"https://encrypted-tbn0.gstatic.com/images?q=tbn:ANd9GcTuJvMFl4gvu5hxxkiWSANNVUAYO-oVpCJCivsl6Vllt6m6J9qUNw\" width=\"400px\" height=\"400px\" />\n",
    "\n",
    "En la clase pasada hablamos acerca de:\n",
    "- preferencias,\n",
    "- funciones de utilidad,\n",
    "- la actitud de los inversionistas de cara al riesgo,\n",
    "- la aversión al riesgo, entre otros.\n",
    "\n",
    "Todas ellas son piezas que necesitamos para responder la pregunta de ¿cómo un inversionista toma la decisión óptima de selección de portafolio?\n",
    "\n",
    "En esta clase al fin estamos listos para ensamblar estos conceptos y escribir el problema de selección de portafolios. \n",
    "\n",
    "En el camino aprenderemos acerca del concepto de **utilidad esperada**, que nos permite trabajar con incertidumbre en el modelado económico (una de las ideas más importantes en economía). Esta idea tiene más de 60 años, y básicamente dice que los individuos, cuando están de cara a incertidumbre, maximizan el valor esperado de su utilidad (solo cierto si somos homo economicus). \n",
    "\n",
    "Además del concepto de utilidad esperada, aprenderemos acerca de **preferencias media-varianza**. Es decir, supondremos que los inversionistas toman decisiones basados en un tipo particular de preferencias.\n",
    "\n",
    "Con lo anterior, estableceremos el problema de selección de portafolios.\n",
    "\n",
    "**Objetivos:**\n",
    "\n",
    "- ¿Qué es utilidad esperada?\n",
    "- ¿Qué son las preferencias media-varianza?\n",
    "- Funciones de utilidad media-varianza.\n",
    "- Enunciado y solución del problema básico de selección de portafolio.\n",
    "\n",
    "*Referencia:*\n",
    "- Notas del curso \"Portfolio Selection and Risk Management\", Rice University, disponible en Coursera.\n",
    "___"
   ]
  },
  {
   "cell_type": "markdown",
   "metadata": {},
   "source": [
    "## 1. Utilidad esperada\n",
    "- Básicamente combina las probabilidades de los resultados con cómo los inversionistas se sienten con dichos resultados.\n",
    "- En otras palabras, la utilidad esperada multiplica la probabilidad de suceso de un evento con la utilidad que genera dicho evento.\n",
    "\n",
    "Recordemos que las *funciones de utilidad* permiten a los inversionistas expresar cómo se sienten con los resultados, especialmente en los malos ratos. \n",
    "\n",
    "Entonces la *utilidad esperada* es una herramienta que nos permite cuantificar cómo nos sentimos en nuestros malos momentos económicos, capturando el riesgo con la probabilidad de ocurrencia de dichos malos momentos. "
   ]
  },
  {
   "cell_type": "markdown",
   "metadata": {},
   "source": [
    "Dado este marco de trabajo, cualquier decisión se puede escribir como la maximización de la utilidad esperada:\n",
    "\\begin{align}\n",
    "\\max_{\\theta} & \\quad E[U(W)], \\\\\n",
    "\\end{align}\n",
    "mediante la escogencia de cierta variable $\\theta$ (gastos, planes de ahorro, compra de activos, planes de producción, etc.).\n",
    "\n",
    "Para nuestros propósitos, la variable de decisión serán los pesos o ponderaciones del portafolio.\n",
    "\n",
    "Adicionalmente, en el contexto de la decisión de distribución de la riqueza entre activos, el problema de maximización tendrá comúnmente las siguientes restricciones:\n",
    "- universo de inversión,\n",
    "- posición en los activos dados."
   ]
  },
  {
   "cell_type": "markdown",
   "metadata": {},
   "source": [
    "**Ejemplo.** \n",
    "\n",
    "Supongamos que un inversionista debe determinar la composición óptima de su portafolio, que contiene activos y bonos. Supongamos que son los únicos instrumentos disponibles.\n",
    "\n",
    "Sean:\n",
    "- $w_s$: peso o ponderación de activos en el portafolio,\n",
    "- $w_b$: peso o ponderación de bonos en el portafolio,\n",
    "- $r_s$: rendimiento de los activos, y\n",
    "- $r_b$: rendimiento de los bonos.\n",
    "\n",
    "De manera que podemos escribir el problema de selección de portafolios como la maximización de la utilidad esperade de nuestra riqueza futura, la cual dependerá de nuestros rendimientos:\n",
    " \n",
    "\\begin{align}\n",
    "\\max_{w_s,w_b} &\\quad E[U(W)]\\\\\n",
    "\\text{s. a.}   &\\quad W=W_0(1+w_sr_s+w_br_b)\\\\\n",
    "               &\\quad w_s+w_b=1\n",
    "\\end{align}\n",
    "\n",
    "\n",
    "Preguntas:\n",
    "- ¿Qué significan las restricciones?\n",
    "- Ya que tenemos planteado este problema básico, ¿qué haría falta para empezar a resolverlo?\n",
    "___"
   ]
  },
  {
   "cell_type": "markdown",
   "metadata": {},
   "source": [
    "## 2. Preferencias media-varianza\n",
    "\n",
    "### 2.1. Utilidad media-varianza\n",
    "\n",
    "Entonces, ¿qué funciones de utilidad deberíamos de usar en este problema de selección de portafolios?\n",
    "\n",
    "- La respuesta es: **preferencias media-varianza**.\n",
    "- Éstas serán representadas en términos de funciones de utilidad como: **utilidad media-varianza**.\n",
    "\n",
    "Usamos la *utilidad media-varianza* en el problema de selección de portafolios dado que ésta decribe el \"trade-off\" entre riesgo y rendimiento que enfrentan los inversionistas. La *utilidad media-varianza* está dada por la siguiente expresión:\n",
    "\n",
    "$$U=E[r_p]-\\frac{1}{2}\\gamma\\sigma_p^2,$$\n",
    "\n",
    "donde\n",
    "- $E[r_p]$ es el rendimiento esperado del portafolio,\n",
    "- $\\sigma_p^2$ es la varianza del portafolio, y\n",
    "- $\\gamma$ es el coeficiente de aversión al riesgo. "
   ]
  },
  {
   "cell_type": "markdown",
   "metadata": {},
   "source": [
    "#### Intuición acerca de la función de utilidad media-varianza:\n",
    "- Sólo se preocupa por medias :) y varianzas :(.\n",
    "- Incrementa con: rendimiento esperado del portafolio.\n",
    "- Decrece con: varianza del portafolio.\n",
    "- Malos tiempos: rendimientos son bajos y las volatilidades son altas.\n",
    "- Conecta bastante bien con la teoría moderna de portafolios, la cual caracteriza los rendimientos con medias y varianzas únicamente.\n",
    "- Criticada por su limitación: supone que los inversionistas sólo se preocupan por medias y varianzas."
   ]
  },
  {
   "cell_type": "markdown",
   "metadata": {},
   "source": [
    "### 2.2. Curvas de indiferencia\n",
    "\n",
    "*¿Recuerdan las curvas de nivel que se ven en cálculo de varias variables?*\n",
    "- Bien, acá nos servirán para representar la utilidad media-varianza gráficamente.\n",
    "- En el contexto de utilidad media-varianza, las curvas de nivel se llaman **curvas de indiferencia**.\n",
    "\n",
    "Dados ciertos niveles de utilidad $U_1>U_2>U_3$, las curvas de indiferencia relativas a estos niveles de utilidad, son los lugares geométricos en el espacio de rendimiento esperado vs. volatilidad representados por las siguientes expresiones\n",
    "\n",
    "$$U_1=E[r_p]-\\frac{1}{2}\\gamma\\sigma_p^2\\Rightarrow E[r_p]=\\frac{1}{2}\\gamma\\sigma_p^2+U_1,$$\n",
    "\n",
    "$$U_2=E[r_p]-\\frac{1}{2}\\gamma\\sigma_p^2\\Rightarrow E[r_p]=\\frac{1}{2}\\gamma\\sigma_p^2+U_2,$$\n",
    "\n",
    "$$U_3=E[r_p]-\\frac{1}{2}\\gamma\\sigma_p^2\\Rightarrow E[r_p]=\\frac{1}{2}\\gamma\\sigma_p^2+U_3.$$"
   ]
  },
  {
   "cell_type": "markdown",
   "metadata": {},
   "source": [
    "**Gráficamente**"
   ]
  },
  {
   "cell_type": "code",
   "execution_count": 1,
   "metadata": {},
   "outputs": [],
   "source": [
    "# Importar numpy y pyplot\n",
    "import numpy as np\n",
    "import matplotlib.pyplot as plt\n",
    "%matplotlib inline"
   ]
  },
  {
   "cell_type": "code",
   "execution_count": 2,
   "metadata": {},
   "outputs": [],
   "source": [
    "# Coeficiente de aversión al riesgo (entre 1 y 10 comúnmente)\n",
    "g = 7\n",
    "# Niveles de utilidad \n",
    "U1, U2, U3 = 3, 2, 1\n",
    "# Vector de volatilidades (sugerido 1%-60%)\n",
    "sp = np.linspace(0.01, 0.60, 100)\n",
    "# Curvas de indiferencia\n",
    "Erp1, Erp2, Erp3 = 0.5*g*sp**2+U1, 0.5*g*sp**2+U2, 0.5*g*sp**2+U3"
   ]
  },
  {
   "cell_type": "code",
   "execution_count": 3,
   "metadata": {},
   "outputs": [
    {
     "data": {
      "text/plain": [
       "<matplotlib.legend.Legend at 0x7f9c4b97b898>"
      ]
     },
     "execution_count": 3,
     "metadata": {},
     "output_type": "execute_result"
    },
    {
     "data": {
      "image/png": "[encoded data removed]",
      "text/plain": [
       "<Figure size 720x576 with 1 Axes>"
      ]
     },
     "metadata": {},
     "output_type": "display_data"
    }
   ],
   "source": [
    "# Gráfica\n",
    "plt.figure(figsize=(10,8))\n",
    "plt.plot(sp, Erp1, lw=5, label='U1')\n",
    "plt.plot(sp, Erp2, lw=5, label='U2')\n",
    "plt.plot(sp, Erp3, lw=5, label='U3')\n",
    "plt.grid()\n",
    "plt.xlabel('Volatilidad $\\sigma_p$')\n",
    "plt.ylabel('Rendimiento esperado $E[r_p]$')\n",
    "plt.legend(loc='best')"
   ]
  },
  {
   "cell_type": "markdown",
   "metadata": {},
   "source": [
    "Bueno, ¿y porqué se llaman curvas de indiferencia?, ¿qué representa una cuva de indiferencia?\n",
    "\n",
    "- Porque sobre una misma curva el nivel de utilidad es el mismo (es indiferente).\n",
    "- Son todas las combinaciones de riesgo y rendimiento que producen un mismo nivel de utilidad."
   ]
  },
  {
   "cell_type": "markdown",
   "metadata": {},
   "source": [
    "Volviendo al problema de selección de portafolios, queremos la utilidad más alta.\n",
    "- ¿Cuál de las anteriores curvas de indiferencia corresponde a la utilidad más alta?\n",
    "- Intuitivamente, ¿porqué?\n",
    "- Curvas de indiferencia para niveles de utilidad más altos, estarán...\n",
    "\n",
    "Notamos además que las anteriores curvas de indiferencia son *paralelas* una con otra. Claro, las dibujamos con el mismo coeficiente de aversión al riesgo.\n",
    "\n",
    "¿Cómo cambian estas curvas para coeficientes de aversión al riesgo más altos?"
   ]
  },
  {
   "cell_type": "code",
   "execution_count": 7,
   "metadata": {},
   "outputs": [],
   "source": [
    "# Coeficientes de aversión al riesgo (entre 1 y 10 comúnmente)\n",
    "g1, g2, g3 = 3, 5, 7\n",
    "# Nivel de utilidad\n",
    "U = 1\n",
    "# Vector de volatilidades (sugerido 1%-60%)\n",
    "sp = np.linspace(0.01, 0.60, 100)\n",
    "# Curvas de indiferencia\n",
    "Erp1, Erp2, Erp3 = 0.5*g1*sp**2+U, 0.5*g2*sp**2+U, 0.5*g3*sp**2+U"
   ]
  },
  {
   "cell_type": "code",
   "execution_count": 8,
   "metadata": {},
   "outputs": [
    {
     "data": {
      "text/plain": [
       "<matplotlib.legend.Legend at 0x7f9c4b8184e0>"
      ]
     },
     "execution_count": 8,
     "metadata": {},
     "output_type": "execute_result"
    },
    {
     "data": {
      "image/png": "[encoded data removed]",
      "text/plain": [
       "<Figure size 720x576 with 1 Axes>"
      ]
     },
     "metadata": {},
     "output_type": "display_data"
    }
   ],
   "source": [
    "# Gráfica\n",
    "plt.figure(figsize=(10,8))\n",
    "plt.plot(sp, Erp1, lw=5, label='$\\gamma_1$')\n",
    "plt.plot(sp, Erp2, lw=5, label='$\\gamma_2$')\n",
    "plt.plot(sp, Erp3, lw=5, label='$\\gamma_3$')\n",
    "plt.grid()\n",
    "plt.xlabel('Volatilidad $\\sigma_p$')\n",
    "plt.ylabel('Rendimiento esperado $E[r_p]$')\n",
    "plt.legend(loc='best')"
   ]
  },
  {
   "cell_type": "markdown",
   "metadata": {},
   "source": [
    "¿Cómo interpretamos las anteriores gráficas?, ¿qué pasa con las personas más aversas al riesgo?\n",
    "- Se puede ver de dos maneras: para un mismo nivel de rendimiento esperado, una persona más aversa al riesgo soporta un nivel menor de riesgo; equivalentemente, para un mismo nivel de riesgo, una persona más aversa al riesgo requerirá un nivel de rendimiento esperado más alto."
   ]
  },
  {
   "cell_type": "markdown",
   "metadata": {},
   "source": [
    "Con todo lo anterior, el problema de selección de portafolios se puede plantear como *\"encontrar la curva de indeferencia más alta dado el conjunto de oportunidades de inversión y restricciones\"*."
   ]
  },
  {
   "cell_type": "markdown",
   "metadata": {},
   "source": [
    "## 3. Problema de selección de portafolios: una ilustración\n",
    "\n",
    "Ahora ilustraremos el problema de selección de portafolios con algunos datos. \n",
    "- Por ahora solo queremos ilustrar gráficamente cómo se resuelve este problema. Trabajar en la intuición.\n",
    "- En las siguientes dos clases nos enfocaremos en cómo resolverlo analíticamente.\n",
    "\n",
    "Acá tenemos el rendimiento medio anual y la volatilidad para dos instrumentos usando datos de EU: instrumentos de deuda (bonos) y acciones. Supondremos que el inversionista solo puede invertir en estas dos clases de instrumentos."
   ]
  },
  {
   "cell_type": "code",
   "execution_count": 9,
   "metadata": {},
   "outputs": [],
   "source": [
    "# Importamos pandas\n",
    "import pandas as pd"
   ]
  },
  {
   "cell_type": "code",
   "execution_count": 10,
   "metadata": {},
   "outputs": [
    {
     "data": {
      "text/html": [
       "<div>\n",
       "<style scoped>\n",
       "    .dataframe tbody tr th:only-of-type {\n",
       "        vertical-align: middle;\n",
       "    }\n",
       "\n",
       "    .dataframe tbody tr th {\n",
       "        vertical-align: top;\n",
       "    }\n",
       "\n",
       "    .dataframe thead th {\n",
       "        text-align: right;\n",
       "    }\n",
       "</style>\n",
       "<table border=\"1\" class=\"dataframe\">\n",
       "  <thead>\n",
       "    <tr style=\"text-align: right;\">\n",
       "      <th></th>\n",
       "      <th>Mean</th>\n",
       "      <th>Std</th>\n",
       "    </tr>\n",
       "  </thead>\n",
       "  <tbody>\n",
       "    <tr>\n",
       "      <th>Stocks</th>\n",
       "      <td>0.1190</td>\n",
       "      <td>0.1915</td>\n",
       "    </tr>\n",
       "    <tr>\n",
       "      <th>Bonds</th>\n",
       "      <td>0.0591</td>\n",
       "      <td>0.0833</td>\n",
       "    </tr>\n",
       "    <tr>\n",
       "      <th>CorrSB</th>\n",
       "      <td>0.1130</td>\n",
       "      <td>None</td>\n",
       "    </tr>\n",
       "  </tbody>\n",
       "</table>\n",
       "</div>"
      ],
      "text/plain": [
       "          Mean     Std\n",
       "Stocks  0.1190  0.1915\n",
       "Bonds   0.0591  0.0833\n",
       "CorrSB  0.1130    None"
      ]
     },
     "execution_count": 10,
     "metadata": {},
     "output_type": "execute_result"
    }
   ],
   "source": [
    "# Datos\n",
    "data=pd.DataFrame(index=['Stocks','Bonds', 'CorrSB'], columns=['Mean', 'Std'])\n",
    "data['Mean'] = np.array([0.119,0.0591,0.113])\n",
    "data['Std'] = np.array([0.1915,0.0833,None])\n",
    "data.round(4)"
   ]
  },
  {
   "cell_type": "markdown",
   "metadata": {},
   "source": [
    "Entonces, ¿cuál es la distribución de riqueza óptima?, o más bien, ¿cuál es la composición óptima del portafolio para un inversionista dado su nivel de aversión al riesgo?\n",
    "\n",
    "**Primero.** Recordamos que, para dos activos, podemos trazar la frontera de mínima varianza tomando todas las posibles combinaciones de los dos activos.\n",
    "\n",
    "De nuevo, sean:\n",
    "- $w_s=w$: peso o ponderación de activos en el portafolio,\n",
    "- $w_b=1-w$: peso o ponderación de bonos en el portafolio,\n",
    "- $r_s$: rendimiento de los activos, y\n",
    "- $r_b$: rendimiento de los bonos.\n",
    "\n",
    "Entonces\n",
    "\n",
    "$$E[r_p]=wE[r_{s}]+(1-w)E[r_b]$$\n",
    "\n",
    "$$\\sigma_p^2=w^2\\sigma_{s}^2+(1-w)^2\\sigma_b^2+2w(1-w)\\rho_{s,b}\\sigma_s\\sigma_b$$"
   ]
  },
  {
   "cell_type": "code",
   "execution_count": 11,
   "metadata": {},
   "outputs": [],
   "source": [
    "# Vector de w variando entre 0 y 1 con n pasos\n",
    "n = 100\n",
    "w = np.linspace(0, 1, n)\n",
    "# Rendimientos esperados individuales\n",
    "Ers = data.loc['Stocks', 'Mean']\n",
    "Erb = data.loc['Bonds', 'Mean']\n",
    "# Volatilidades individuales\n",
    "ss = data.loc['Stocks', 'Std']\n",
    "sb = data.loc['Bonds', 'Std']\n",
    "# Correlacion\n",
    "rsb = data.loc['CorrSB', 'Mean']"
   ]
  },
  {
   "cell_type": "code",
   "execution_count": 14,
   "metadata": {
    "scrolled": true
   },
   "outputs": [
    {
     "data": {
      "text/html": [
       "<div>\n",
       "<style scoped>\n",
       "    .dataframe tbody tr th:only-of-type {\n",
       "        vertical-align: middle;\n",
       "    }\n",
       "\n",
       "    .dataframe tbody tr th {\n",
       "        vertical-align: top;\n",
       "    }\n",
       "\n",
       "    .dataframe thead th {\n",
       "        text-align: right;\n",
       "    }\n",
       "</style>\n",
       "<table border=\"1\" class=\"dataframe\">\n",
       "  <thead>\n",
       "    <tr style=\"text-align: right;\">\n",
       "      <th></th>\n",
       "      <th>Erp</th>\n",
       "      <th>sp</th>\n",
       "    </tr>\n",
       "  </thead>\n",
       "  <tbody>\n",
       "    <tr>\n",
       "      <th>0.000000</th>\n",
       "      <td>0.0591</td>\n",
       "      <td>0.0833</td>\n",
       "    </tr>\n",
       "    <tr>\n",
       "      <th>0.010101</th>\n",
       "      <td>0.0597051</td>\n",
       "      <td>0.0826995</td>\n",
       "    </tr>\n",
       "    <tr>\n",
       "      <th>0.020202</th>\n",
       "      <td>0.0603101</td>\n",
       "      <td>0.0821443</td>\n",
       "    </tr>\n",
       "    <tr>\n",
       "      <th>0.030303</th>\n",
       "      <td>0.0609152</td>\n",
       "      <td>0.0816354</td>\n",
       "    </tr>\n",
       "    <tr>\n",
       "      <th>0.040404</th>\n",
       "      <td>0.0615202</td>\n",
       "      <td>0.0811735</td>\n",
       "    </tr>\n",
       "    <tr>\n",
       "      <th>0.050505</th>\n",
       "      <td>0.0621253</td>\n",
       "      <td>0.0807596</td>\n",
       "    </tr>\n",
       "    <tr>\n",
       "      <th>0.060606</th>\n",
       "      <td>0.0627303</td>\n",
       "      <td>0.0803944</td>\n",
       "    </tr>\n",
       "    <tr>\n",
       "      <th>0.070707</th>\n",
       "      <td>0.0633354</td>\n",
       "      <td>0.0800784</td>\n",
       "    </tr>\n",
       "    <tr>\n",
       "      <th>0.080808</th>\n",
       "      <td>0.0639404</td>\n",
       "      <td>0.0798124</td>\n",
       "    </tr>\n",
       "    <tr>\n",
       "      <th>0.090909</th>\n",
       "      <td>0.0645455</td>\n",
       "      <td>0.0795967</td>\n",
       "    </tr>\n",
       "    <tr>\n",
       "      <th>0.101010</th>\n",
       "      <td>0.0651505</td>\n",
       "      <td>0.0794319</td>\n",
       "    </tr>\n",
       "    <tr>\n",
       "      <th>0.111111</th>\n",
       "      <td>0.0657556</td>\n",
       "      <td>0.0793183</td>\n",
       "    </tr>\n",
       "    <tr>\n",
       "      <th>0.121212</th>\n",
       "      <td>0.0663606</td>\n",
       "      <td>0.0792559</td>\n",
       "    </tr>\n",
       "    <tr>\n",
       "      <th>0.131313</th>\n",
       "      <td>0.0669657</td>\n",
       "      <td>0.0792451</td>\n",
       "    </tr>\n",
       "    <tr>\n",
       "      <th>0.141414</th>\n",
       "      <td>0.0675707</td>\n",
       "      <td>0.0792858</td>\n",
       "    </tr>\n",
       "    <tr>\n",
       "      <th>0.151515</th>\n",
       "      <td>0.0681758</td>\n",
       "      <td>0.0793778</td>\n",
       "    </tr>\n",
       "    <tr>\n",
       "      <th>0.161616</th>\n",
       "      <td>0.0687808</td>\n",
       "      <td>0.0795212</td>\n",
       "    </tr>\n",
       "    <tr>\n",
       "      <th>0.171717</th>\n",
       "      <td>0.0693859</td>\n",
       "      <td>0.0797154</td>\n",
       "    </tr>\n",
       "    <tr>\n",
       "      <th>0.181818</th>\n",
       "      <td>0.0699909</td>\n",
       "      <td>0.0799603</td>\n",
       "    </tr>\n",
       "    <tr>\n",
       "      <th>0.191919</th>\n",
       "      <td>0.070596</td>\n",
       "      <td>0.0802553</td>\n",
       "    </tr>\n",
       "    <tr>\n",
       "      <th>0.202020</th>\n",
       "      <td>0.071201</td>\n",
       "      <td>0.0805999</td>\n",
       "    </tr>\n",
       "    <tr>\n",
       "      <th>0.212121</th>\n",
       "      <td>0.0718061</td>\n",
       "      <td>0.0809934</td>\n",
       "    </tr>\n",
       "    <tr>\n",
       "      <th>0.222222</th>\n",
       "      <td>0.0724111</td>\n",
       "      <td>0.0814352</td>\n",
       "    </tr>\n",
       "    <tr>\n",
       "      <th>0.232323</th>\n",
       "      <td>0.0730162</td>\n",
       "      <td>0.0819244</td>\n",
       "    </tr>\n",
       "    <tr>\n",
       "      <th>0.242424</th>\n",
       "      <td>0.0736212</td>\n",
       "      <td>0.0824602</td>\n",
       "    </tr>\n",
       "    <tr>\n",
       "      <th>0.252525</th>\n",
       "      <td>0.0742263</td>\n",
       "      <td>0.0830417</td>\n",
       "    </tr>\n",
       "    <tr>\n",
       "      <th>0.262626</th>\n",
       "      <td>0.0748313</td>\n",
       "      <td>0.083668</td>\n",
       "    </tr>\n",
       "    <tr>\n",
       "      <th>0.272727</th>\n",
       "      <td>0.0754364</td>\n",
       "      <td>0.0843381</td>\n",
       "    </tr>\n",
       "    <tr>\n",
       "      <th>0.282828</th>\n",
       "      <td>0.0760414</td>\n",
       "      <td>0.0850509</td>\n",
       "    </tr>\n",
       "    <tr>\n",
       "      <th>0.292929</th>\n",
       "      <td>0.0766465</td>\n",
       "      <td>0.0858053</td>\n",
       "    </tr>\n",
       "    <tr>\n",
       "      <th>...</th>\n",
       "      <td>...</td>\n",
       "      <td>...</td>\n",
       "    </tr>\n",
       "    <tr>\n",
       "      <th>0.707071</th>\n",
       "      <td>0.101454</td>\n",
       "      <td>0.140272</td>\n",
       "    </tr>\n",
       "    <tr>\n",
       "      <th>0.717172</th>\n",
       "      <td>0.102059</td>\n",
       "      <td>0.141944</td>\n",
       "    </tr>\n",
       "    <tr>\n",
       "      <th>0.727273</th>\n",
       "      <td>0.102664</td>\n",
       "      <td>0.143625</td>\n",
       "    </tr>\n",
       "    <tr>\n",
       "      <th>0.737374</th>\n",
       "      <td>0.103269</td>\n",
       "      <td>0.145314</td>\n",
       "    </tr>\n",
       "    <tr>\n",
       "      <th>0.747475</th>\n",
       "      <td>0.103874</td>\n",
       "      <td>0.147012</td>\n",
       "    </tr>\n",
       "    <tr>\n",
       "      <th>0.757576</th>\n",
       "      <td>0.104479</td>\n",
       "      <td>0.148717</td>\n",
       "    </tr>\n",
       "    <tr>\n",
       "      <th>0.767677</th>\n",
       "      <td>0.105084</td>\n",
       "      <td>0.150431</td>\n",
       "    </tr>\n",
       "    <tr>\n",
       "      <th>0.777778</th>\n",
       "      <td>0.105689</td>\n",
       "      <td>0.152152</td>\n",
       "    </tr>\n",
       "    <tr>\n",
       "      <th>0.787879</th>\n",
       "      <td>0.106294</td>\n",
       "      <td>0.15388</td>\n",
       "    </tr>\n",
       "    <tr>\n",
       "      <th>0.797980</th>\n",
       "      <td>0.106899</td>\n",
       "      <td>0.155616</td>\n",
       "    </tr>\n",
       "    <tr>\n",
       "      <th>0.808081</th>\n",
       "      <td>0.107504</td>\n",
       "      <td>0.157358</td>\n",
       "    </tr>\n",
       "    <tr>\n",
       "      <th>0.818182</th>\n",
       "      <td>0.108109</td>\n",
       "      <td>0.159107</td>\n",
       "    </tr>\n",
       "    <tr>\n",
       "      <th>0.828283</th>\n",
       "      <td>0.108714</td>\n",
       "      <td>0.160862</td>\n",
       "    </tr>\n",
       "    <tr>\n",
       "      <th>0.838384</th>\n",
       "      <td>0.109319</td>\n",
       "      <td>0.162623</td>\n",
       "    </tr>\n",
       "    <tr>\n",
       "      <th>0.848485</th>\n",
       "      <td>0.109924</td>\n",
       "      <td>0.16439</td>\n",
       "    </tr>\n",
       "    <tr>\n",
       "      <th>0.858586</th>\n",
       "      <td>0.110529</td>\n",
       "      <td>0.166163</td>\n",
       "    </tr>\n",
       "    <tr>\n",
       "      <th>0.868687</th>\n",
       "      <td>0.111134</td>\n",
       "      <td>0.167942</td>\n",
       "    </tr>\n",
       "    <tr>\n",
       "      <th>0.878788</th>\n",
       "      <td>0.111739</td>\n",
       "      <td>0.169726</td>\n",
       "    </tr>\n",
       "    <tr>\n",
       "      <th>0.888889</th>\n",
       "      <td>0.112344</td>\n",
       "      <td>0.171515</td>\n",
       "    </tr>\n",
       "    <tr>\n",
       "      <th>0.898990</th>\n",
       "      <td>0.112949</td>\n",
       "      <td>0.173309</td>\n",
       "    </tr>\n",
       "    <tr>\n",
       "      <th>0.909091</th>\n",
       "      <td>0.113555</td>\n",
       "      <td>0.175108</td>\n",
       "    </tr>\n",
       "    <tr>\n",
       "      <th>0.919192</th>\n",
       "      <td>0.11416</td>\n",
       "      <td>0.176912</td>\n",
       "    </tr>\n",
       "    <tr>\n",
       "      <th>0.929293</th>\n",
       "      <td>0.114765</td>\n",
       "      <td>0.178721</td>\n",
       "    </tr>\n",
       "    <tr>\n",
       "      <th>0.939394</th>\n",
       "      <td>0.11537</td>\n",
       "      <td>0.180534</td>\n",
       "    </tr>\n",
       "    <tr>\n",
       "      <th>0.949495</th>\n",
       "      <td>0.115975</td>\n",
       "      <td>0.182352</td>\n",
       "    </tr>\n",
       "    <tr>\n",
       "      <th>0.959596</th>\n",
       "      <td>0.11658</td>\n",
       "      <td>0.184173</td>\n",
       "    </tr>\n",
       "    <tr>\n",
       "      <th>0.969697</th>\n",
       "      <td>0.117185</td>\n",
       "      <td>0.185999</td>\n",
       "    </tr>\n",
       "    <tr>\n",
       "      <th>0.979798</th>\n",
       "      <td>0.11779</td>\n",
       "      <td>0.187829</td>\n",
       "    </tr>\n",
       "    <tr>\n",
       "      <th>0.989899</th>\n",
       "      <td>0.118395</td>\n",
       "      <td>0.189663</td>\n",
       "    </tr>\n",
       "    <tr>\n",
       "      <th>1.000000</th>\n",
       "      <td>0.119</td>\n",
       "      <td>0.1915</td>\n",
       "    </tr>\n",
       "  </tbody>\n",
       "</table>\n",
       "<p>100 rows × 2 columns</p>\n",
       "</div>"
      ],
      "text/plain": [
       "                Erp         sp\n",
       "0.000000     0.0591     0.0833\n",
       "0.010101  0.0597051  0.0826995\n",
       "0.020202  0.0603101  0.0821443\n",
       "0.030303  0.0609152  0.0816354\n",
       "0.040404  0.0615202  0.0811735\n",
       "0.050505  0.0621253  0.0807596\n",
       "0.060606  0.0627303  0.0803944\n",
       "0.070707  0.0633354  0.0800784\n",
       "0.080808  0.0639404  0.0798124\n",
       "0.090909  0.0645455  0.0795967\n",
       "0.101010  0.0651505  0.0794319\n",
       "0.111111  0.0657556  0.0793183\n",
       "0.121212  0.0663606  0.0792559\n",
       "0.131313  0.0669657  0.0792451\n",
       "0.141414  0.0675707  0.0792858\n",
       "0.151515  0.0681758  0.0793778\n",
       "0.161616  0.0687808  0.0795212\n",
       "0.171717  0.0693859  0.0797154\n",
       "0.181818  0.0699909  0.0799603\n",
       "0.191919   0.070596  0.0802553\n",
       "0.202020   0.071201  0.0805999\n",
       "0.212121  0.0718061  0.0809934\n",
       "0.222222  0.0724111  0.0814352\n",
       "0.232323  0.0730162  0.0819244\n",
       "0.242424  0.0736212  0.0824602\n",
       "0.252525  0.0742263  0.0830417\n",
       "0.262626  0.0748313   0.083668\n",
       "0.272727  0.0754364  0.0843381\n",
       "0.282828  0.0760414  0.0850509\n",
       "0.292929  0.0766465  0.0858053\n",
       "...             ...        ...\n",
       "0.707071   0.101454   0.140272\n",
       "0.717172   0.102059   0.141944\n",
       "0.727273   0.102664   0.143625\n",
       "0.737374   0.103269   0.145314\n",
       "0.747475   0.103874   0.147012\n",
       "0.757576   0.104479   0.148717\n",
       "0.767677   0.105084   0.150431\n",
       "0.777778   0.105689   0.152152\n",
       "0.787879   0.106294    0.15388\n",
       "0.797980   0.106899   0.155616\n",
       "0.808081   0.107504   0.157358\n",
       "0.818182   0.108109   0.159107\n",
       "0.828283   0.108714   0.160862\n",
       "0.838384   0.109319   0.162623\n",
       "0.848485   0.109924    0.16439\n",
       "0.858586   0.110529   0.166163\n",
       "0.868687   0.111134   0.167942\n",
       "0.878788   0.111739   0.169726\n",
       "0.888889   0.112344   0.171515\n",
       "0.898990   0.112949   0.173309\n",
       "0.909091   0.113555   0.175108\n",
       "0.919192    0.11416   0.176912\n",
       "0.929293   0.114765   0.178721\n",
       "0.939394    0.11537   0.180534\n",
       "0.949495   0.115975   0.182352\n",
       "0.959596    0.11658   0.184173\n",
       "0.969697   0.117185   0.185999\n",
       "0.979798    0.11779   0.187829\n",
       "0.989899   0.118395   0.189663\n",
       "1.000000      0.119     0.1915\n",
       "\n",
       "[100 rows x 2 columns]"
      ]
     },
     "execution_count": 14,
     "metadata": {},
     "output_type": "execute_result"
    }
   ],
   "source": [
    "# Crear un DataFrame cuyas columnas sean rendimiento\n",
    "# y volatilidad del portafolio para cada una de las w\n",
    "# generadas\n",
    "portafolios = pd.DataFrame(index = w, columns=['Erp', 'sp'])\n",
    "portafolios.loc[:,'Erp'] = w*Ers+(1-w)*Erb\n",
    "portafolios.loc[:,'sp'] = ((w*ss)**2+((1-w)*sb)**2+2*w*(1-w)*ss*sb*rsb)**0.5\n",
    "portafolios"
   ]
  },
  {
   "cell_type": "code",
   "execution_count": 15,
   "metadata": {},
   "outputs": [
    {
     "data": {
      "text/plain": [
       "<matplotlib.legend.Legend at 0x7f9c43df9e80>"
      ]
     },
     "execution_count": 15,
     "metadata": {},
     "output_type": "execute_result"
    },
    {
     "data": {
      "image/png": "[encoded data removed]",
      "text/plain": [
       "<Figure size 576x432 with 1 Axes>"
      ]
     },
     "metadata": {},
     "output_type": "display_data"
    }
   ],
   "source": [
    "# Gráfica\n",
    "plt.figure(figsize=(8,6))\n",
    "plt.plot(portafolios.loc[:,'sp'], portafolios.loc[:,'Erp'], label='Portafolios')\n",
    "plt.grid()\n",
    "plt.xlabel('Volatilidad $\\sigma_p$')\n",
    "plt.ylabel('Rendimiento esperado $E[r_p]$')\n",
    "plt.legend(loc='best')"
   ]
  },
  {
   "cell_type": "markdown",
   "metadata": {},
   "source": [
    "**Segundo.** Graficamos en la misma ventana, curvas de indiferencia."
   ]
  },
  {
   "cell_type": "code",
   "execution_count": 23,
   "metadata": {},
   "outputs": [],
   "source": [
    "# Niveles de utilidad 0.07, 0.08, 0.09\n",
    "U1, U2, U3 = 0.06, 0.07, 0.0725\n",
    "# Coeficiente de aversión al riesgo\n",
    "g = 3\n",
    "# Curvas de indiferencia\n",
    "sp = portafolios.loc[:,'sp']\n",
    "Erp1, Erp2, Erp3 = 0.5*g*sp**2+U1, 0.5*g*sp**2+U2, 0.5*g*sp**2+U3"
   ]
  },
  {
   "cell_type": "code",
   "execution_count": 24,
   "metadata": {},
   "outputs": [
    {
     "data": {
      "text/plain": [
       "<matplotlib.legend.Legend at 0x7f9c41a6d908>"
      ]
     },
     "execution_count": 24,
     "metadata": {},
     "output_type": "execute_result"
    },
    {
     "data": {
      "image/png": "[encoded data removed]",
      "text/plain": [
       "<Figure size 576x432 with 1 Axes>"
      ]
     },
     "metadata": {},
     "output_type": "display_data"
    }
   ],
   "source": [
    "# Gráfica\n",
    "plt.figure(figsize=(8,6))\n",
    "plt.plot(portafolios.loc[:,'sp'], portafolios.loc[:,'Erp'], label='Portafolios')\n",
    "plt.plot(sp, Erp1, lw=2, label='U1')\n",
    "plt.plot(sp, Erp2, lw=2, label='U2')\n",
    "plt.plot(sp, Erp3, lw=2, label='U3')\n",
    "plt.grid()\n",
    "plt.xlabel('Volatilidad $\\sigma_p$')\n",
    "plt.ylabel('Rendimiento esperado $E[r_p]$')\n",
    "plt.legend(loc='best')"
   ]
  },
  {
   "cell_type": "markdown",
   "metadata": {},
   "source": [
    "**Tercero.** La elección óptima está dada por la curva de indiferencia para el nivel de utilidad más alto que es tangente a la frontera media-varianza.\n",
    "- Claramente, esta selección depende del coeficiente de aversión al riesgo."
   ]
  },
  {
   "cell_type": "code",
   "execution_count": 25,
   "metadata": {},
   "outputs": [
    {
     "data": {
      "text/plain": [
       "<matplotlib.legend.Legend at 0x7f9c41897978>"
      ]
     },
     "execution_count": 25,
     "metadata": {},
     "output_type": "execute_result"
    },
    {
     "data": {
      "image/png": "[encoded data removed]",
      "text/plain": [
       "<Figure size 576x432 with 1 Axes>"
      ]
     },
     "metadata": {},
     "output_type": "display_data"
    }
   ],
   "source": [
    "# Gráfica con zoom\n",
    "# Gráfica\n",
    "plt.figure(figsize=(8,6))\n",
    "plt.plot(portafolios.loc[:,'sp'], portafolios.loc[:,'Erp'], label='Portafolios')\n",
    "plt.plot(sp, Erp1, lw=2, label='U1')\n",
    "plt.plot(sp, Erp2, lw=2, label='U2')\n",
    "plt.plot(sp, Erp3, lw=2, label='U3')\n",
    "plt.grid()\n",
    "plt.axis([0.12, 0.14, 0.09, 0.11])\n",
    "plt.xlabel('Volatilidad $\\sigma_p$')\n",
    "plt.ylabel('Rendimiento esperado $E[r_p]$')\n",
    "plt.legend(loc='best')"
   ]
  },
  {
   "cell_type": "markdown",
   "metadata": {},
   "source": [
    "# Anuncios parroquiales\n",
    "\n",
    "## 1. Quiz la siguiente clase.\n",
    "## 2. Segunda entrega de la tarea 5 para el miércoles 27 de Marzo.\n",
    "## 3. Un par de artículos del WSJ y el NYT que discuten herramientas disponibles para la medición de su propia tolerancia al riesgo:\n",
    "- [Artículo 1](https://www.nytimes.com/2016/02/13/your-money/as-stocks-fall-its-time-to-measure-your-risk-tolerance.html)\n",
    "- [Artículo 2](https://www.wsj.com/articles/check-your-tolerance-for-investment-risk-now-before-markets-sag-1405619939)"
   ]
  },
  {
   "cell_type": "markdown",
   "metadata": {},
   "source": [
    "<script>\n",
    "  $(document).ready(function(){\n",
    "    $('div.prompt').hide();\n",
    "    $('div.back-to-top').hide();\n",
    "    $('nav#menubar').hide();\n",
    "    $('.breadcrumb').hide();\n",
    "    $('.hidden-print').hide();\n",
    "  });\n",
    "</script>\n",
    "\n",
    "<footer id=\"attribution\" style=\"float:right; color:#808080; background:#fff;\">\n",
    "Created with Jupyter by Esteban Jiménez Rodríguez.\n",
    "</footer>"
   ]
  }
 ],
 "metadata": {
  "kernelspec": {
   "display_name": "Python 3",
   "language": "python",
   "name": "python3"
  },
  "language_info": {
   "codemirror_mode": {
    "name": "ipython",
    "version": 3
   },
   "file_extension": ".py",
   "mimetype": "text/x-python",
   "name": "python",
   "nbconvert_exporter": "python",
   "pygments_lexer": "ipython3",
   "version": "3.6.8"
  }
 },
 "nbformat": 4,
 "nbformat_minor": 2
}
